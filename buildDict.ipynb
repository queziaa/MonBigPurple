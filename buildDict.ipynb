{
 "cells": [
  {
   "cell_type": "code",
   "execution_count": 33,
   "metadata": {},
   "outputs": [
    {
     "name": "stdout",
     "output_type": "stream",
     "text": [
      "news/news_01.txt\n",
      "news/news_02.txt\n",
      "news/news_03.txt\n",
      "news/news_04.txt\n",
      "news/news_05.txt\n",
      "news/news_06.txt\n",
      "news/news_07.txt\n",
      "news/news_08.txt\n",
      "news/news_09.txt\n",
      "news/news_10.txt\n",
      "news/news_11.txt\n",
      "news/news_12.txt\n",
      "news/news_13.txt\n",
      "news/news_14.txt\n",
      "news/news_15.txt\n",
      "news/news_16.txt\n",
      "news/news_17.txt\n",
      "news/news_18.txt\n",
      "news/news_19.txt\n"
     ]
    }
   ],
   "source": [
    "# 读取 news 文件夹下面 news_01.txt 至 news_19.txt \n",
    "breakLoop = 1000\n",
    "wordsDict = {}\n",
    "letterDict = {}\n",
    "for i in range(1, 20):\n",
    "    if i == breakLoop:\n",
    "        break\n",
    "    with open('news/news_{:02d}.txt'.format(i), 'r') as f:\n",
    "        print('news/news_{:02d}.txt'.format(i))\n",
    "        for line in f:\n",
    "            # 将所有非西里尔字母之外的全部替换为空格\n",
    "            line = ''.join([c if c.isalpha() and 1024 <= ord(c) <= 1279 else ' ' for c in line])\n",
    "            # 将所有字母转换为小写\n",
    "            line = line.lower()\n",
    "            # 用空格分割单词\n",
    "            words = line.split()\n",
    "            for i in range(len(words)):\n",
    "                if words[i] in wordsDict:\n",
    "                    wordsDict[words[i]] += 1\n",
    "                else:\n",
    "                    wordsDict[words[i]] = 1"
   ]
  },
  {
   "cell_type": "code",
   "execution_count": 35,
   "metadata": {},
   "outputs": [],
   "source": [
    "# 二进制保存\n",
    "\n",
    "import pickle\n",
    "with open('wordsDict.pickle', 'wb') as f:\n",
    "    pickle.dump(wordsDict, f)\n",
    "\n"
   ]
  },
  {
   "cell_type": "code",
   "execution_count": 37,
   "metadata": {},
   "outputs": [
    {
     "name": "stdout",
     "output_type": "stream",
     "text": [
      "ч 3165527\n",
      "я 35042\n",
      "л 2217905\n",
      "б 866321\n",
      "а 388806\n",
      "ж 312838\n",
      "д 1328766\n",
      "н 723343\n",
      "р 765295\n",
      "и 52814\n",
      "г 527417\n",
      "ы 37065\n",
      "ц 421658\n",
      "п 123075\n",
      "с 556590\n",
      "з 169430\n",
      "т 363510\n",
      "х 417408\n",
      "м 391379\n",
      "э 207932\n",
      "ш 139197\n",
      "ю 21741\n",
      "й 104230\n",
      "в 106387\n",
      "о 176831\n",
      "ё 24323\n",
      "у 142682\n",
      "ү 21494\n",
      "к 24648\n",
      "ө 62024\n",
      "е 21036\n",
      "ь 12310\n",
      "ф 7932\n",
      "щ 151\n",
      "ъ 187\n",
      "є 53\n",
      "ї 9\n",
      "һ 1\n",
      "ѳ 99\n",
      "і 122\n",
      "ѕ 1\n",
      "ѐ 2\n",
      "ґ 14\n",
      "қ 4\n",
      "ӧ 6\n",
      "ҩ 2\n",
      "ҕ 2\n",
      "ҧ 2\n",
      "љ 6\n",
      "њ 4\n",
      "ѓ 2\n",
      "ҵ 2\n",
      "ҟ 2\n",
      "ғ 2\n",
      "ӯ 2\n",
      "ә 1\n",
      "ң 5\n",
      "ћ 2\n",
      "ђ 4\n"
     ]
    }
   ],
   "source": [
    "for key in wordsDict:\n",
    "    if len(key) == 1:\n",
    "        print(key, wordsDict[key])"
   ]
  }
 ],
 "metadata": {
  "kernelspec": {
   "display_name": "weibodatacleaning",
   "language": "python",
   "name": "python3"
  },
  "language_info": {
   "codemirror_mode": {
    "name": "ipython",
    "version": 3
   },
   "file_extension": ".py",
   "mimetype": "text/x-python",
   "name": "python",
   "nbconvert_exporter": "python",
   "pygments_lexer": "ipython3",
   "version": "3.10.13"
  }
 },
 "nbformat": 4,
 "nbformat_minor": 2
}
