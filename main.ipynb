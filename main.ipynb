{
 "cells": [
  {
   "cell_type": "code",
   "execution_count": 23,
   "metadata": {},
   "outputs": [
    {
     "data": {
      "application/vnd.jupyter.widget-view+json": {
       "model_id": "d416ea0d63ed4310856b961efb173f84",
       "version_major": 2,
       "version_minor": 0
      },
      "text/plain": [
       "tokenizer_config.json:   0%|          | 0.00/45.0 [00:00<?, ?B/s]"
      ]
     },
     "metadata": {},
     "output_type": "display_data"
    },
    {
     "name": "stderr",
     "output_type": "stream",
     "text": [
      "c:\\Users\\quezi\\.conda\\envs\\weibodatacleaning\\lib\\site-packages\\huggingface_hub\\file_download.py:148: UserWarning: `huggingface_hub` cache-system uses symlinks by default to efficiently store duplicated files but your machine does not support them in C:\\Users\\quezi\\.cache\\huggingface\\hub\\models--tugstugi--bert-large-mongolian-uncased. Caching files will still work but in a degraded version that might require more space on your disk. This warning can be disabled by setting the `HF_HUB_DISABLE_SYMLINKS_WARNING` environment variable. For more details, see https://huggingface.co/docs/huggingface_hub/how-to-cache#limitations.\n",
      "To support symlinks on Windows, you either need to activate Developer Mode or to run Python as an administrator. In order to see activate developer mode, see this article: https://docs.microsoft.com/en-us/windows/apps/get-started/enable-your-device-for-development\n",
      "  warnings.warn(message)\n"
     ]
    },
    {
     "data": {
      "application/vnd.jupyter.widget-view+json": {
       "model_id": "fb6043801461426496c52ff74d95ec72",
       "version_major": 2,
       "version_minor": 0
      },
      "text/plain": [
       "config.json:   0%|          | 0.00/700 [00:00<?, ?B/s]"
      ]
     },
     "metadata": {},
     "output_type": "display_data"
    },
    {
     "data": {
      "application/vnd.jupyter.widget-view+json": {
       "model_id": "cb8f9d5f28ca4a9596bff396fd38a787",
       "version_major": 2,
       "version_minor": 0
      },
      "text/plain": [
       "spiece.model:   0%|          | 0.00/1.01M [00:00<?, ?B/s]"
      ]
     },
     "metadata": {},
     "output_type": "display_data"
    },
    {
     "data": {
      "application/vnd.jupyter.widget-view+json": {
       "model_id": "5c0c61403bed412eade332793edb461a",
       "version_major": 2,
       "version_minor": 0
      },
      "text/plain": [
       "added_tokens.json:   0%|          | 0.00/16.0 [00:00<?, ?B/s]"
      ]
     },
     "metadata": {},
     "output_type": "display_data"
    },
    {
     "data": {
      "application/vnd.jupyter.widget-view+json": {
       "model_id": "17adcf13c8f8483ca044d35029606ca9",
       "version_major": 2,
       "version_minor": 0
      },
      "text/plain": [
       "special_tokens_map.json:   0%|          | 0.00/156 [00:00<?, ?B/s]"
      ]
     },
     "metadata": {},
     "output_type": "display_data"
    },
    {
     "data": {
      "application/vnd.jupyter.widget-view+json": {
       "model_id": "583b7425b057494ba85dfa6875e017b1",
       "version_major": 2,
       "version_minor": 0
      },
      "text/plain": [
       "pytorch_model.bin:   0%|          | 0.00/1.35G [00:00<?, ?B/s]"
      ]
     },
     "metadata": {},
     "output_type": "display_data"
    }
   ],
   "source": [
    "from transformers import pipeline, AutoTokenizer, AutoModelForMaskedLM\n",
    "\n",
    "tokenizer = AutoTokenizer.from_pretrained('tugstugi/bert-large-mongolian-uncased', use_fast=False)\n",
    "model = AutoModelForMaskedLM.from_pretrained('tugstugi/bert-large-mongolian-uncased')\n",
    "\n",
    "# tokenizer = AutoTokenizer.from_pretrained('tugstugi/bert-base-mongolian-uncased', use_fast=False)\n",
    "# model = AutoModelForMaskedLM.from_pretrained('tugstugi/bert-base-mongolian-uncased')\n",
    "\n",
    "## declare task ##\n",
    "pipe = pipeline(task=\"fill-mask\", model=model, tokenizer=tokenizer)\n",
    "\n",
    "import pickle\n",
    "with open('mask.pickle', 'rb') as f:\n",
    "    MASK = pickle.load(f)\n",
    "\n"
   ]
  },
  {
   "cell_type": "code",
   "execution_count": 21,
   "metadata": {},
   "outputs": [
    {
     "name": "stdout",
     "output_type": "stream",
     "text": [
      "{'score': 0.28184500336647034, 'token': 23406, 'token_str': 'Үлгэр', 'sequence': 'Үлгэр домог үлгэр худал биш, балар эртний тухай бодит үнэн оршиж байдаг.'}\n",
      "{'score': 0.08691340684890747, 'token': 446, 'token_str': 'Гэвч', 'sequence': 'Гэвч домог үлгэр худал биш, балар эртний тухай бодит үнэн оршиж байдаг.'}\n",
      "{'score': 0.08220097422599792, 'token': 200, 'token_str': 'Гэхдээ', 'sequence': 'Гэхдээ домог үлгэр худал биш, балар эртний тухай бодит үнэн оршиж байдаг.'}\n",
      "{'score': 0.0479096956551075, 'token': 11620, 'token_str': 'Эртний', 'sequence': 'Эртний домог үлгэр худал биш, балар эртний тухай бодит үнэн оршиж байдаг.'}\n",
      "{'score': 0.04697900265455246, 'token': 83, 'token_str': 'Харин', 'sequence': 'Харин домог үлгэр худал биш, балар эртний тухай бодит үнэн оршиж байдаг.'}\n",
      "[MASK] домог үлгэр худал биш , балар эртний тухай бодит үнэн оршиж байдаг .\n",
      "{'score': 0.0753706693649292, 'token': 1559, 'token_str': 'тэнд', 'sequence': 'тэгэхлээр тэнд үлгэр худал биш, балар эртний тухай бодит үнэн оршиж байдаг.'}\n",
      "{'score': 0.05685574933886528, 'token': 3054, 'token_str': 'эртний', 'sequence': 'тэгэхлээр эртний үлгэр худал биш, балар эртний тухай бодит үнэн оршиж байдаг.'}\n",
      "{'score': 0.05182593688368797, 'token': 2098, 'token_str': 'үлгэр', 'sequence': 'тэгэхлээр үлгэр үлгэр худал биш, балар эртний тухай бодит үнэн оршиж байдаг.'}\n",
      "{'score': 0.05039506405591965, 'token': 100, 'token_str': 'тэр', 'sequence': 'тэгэхлээр тэр үлгэр худал биш, балар эртний тухай бодит үнэн оршиж байдаг.'}\n",
      "{'score': 0.04705110937356949, 'token': 22, 'token_str': 'энэ', 'sequence': 'тэгэхлээр энэ үлгэр худал биш, балар эртний тухай бодит үнэн оршиж байдаг.'}\n",
      "тэгэхлээр [MASK] үлгэр худал биш , балар эртний тухай бодит үнэн оршиж байдаг .\n",
      "{'score': 0.2961006164550781, 'token': 36, 'token_str': 'т', 'sequence': 'тэгэхлээр домогт худал биш, балар эртний тухай бодит үнэн оршиж байдаг.'}\n",
      "{'score': 0.08764101564884186, 'token': 17939, 'token_str': 'ярианд', 'sequence': 'тэгэхлээр домог ярианд худал биш, балар эртний тухай бодит үнэн оршиж байдаг.'}\n",
      "{'score': 0.0824616476893425, 'token': 455, 'token_str': 'дотор', 'sequence': 'тэгэхлээр домог дотор худал биш, балар эртний тухай бодит үнэн оршиж байдаг.'}\n",
      "{'score': 0.07911607623100281, 'token': 20, 'token_str': 'д', 'sequence': 'тэгэхлээр домогд худал биш, балар эртний тухай бодит үнэн оршиж байдаг.'}\n",
      "{'score': 0.06105278804898262, 'token': 2023, 'token_str': 'бүхэнд', 'sequence': 'тэгэхлээр домог бүхэнд худал биш, балар эртний тухай бодит үнэн оршиж байдаг.'}\n",
      "тэгэхлээр домог [MASK] худал биш , балар эртний тухай бодит үнэн оршиж байдаг .\n",
      "{'score': 0.3314632177352905, 'token': 36, 'token_str': 'т', 'sequence': 'тэгэхлээр домог үлгэрт биш, балар эртний тухай бодит үнэн оршиж байдаг.'}\n",
      "{'score': 0.13857705891132355, 'token': 7392, 'token_str': 'домог', 'sequence': 'тэгэхлээр домог үлгэр домог биш, балар эртний тухай бодит үнэн оршиж байдаг.'}\n",
      "{'score': 0.10738158971071243, 'token': 3178, 'token_str': 'төдий', 'sequence': 'тэгэхлээр домог үлгэр төдий биш, балар эртний тухай бодит үнэн оршиж байдаг.'}\n",
      "{'score': 0.038208767771720886, 'token': 18, 'token_str': 'ч', 'sequence': 'тэгэхлээр домог үлгэр ч биш, балар эртний тухай бодит үнэн оршиж байдаг.'}\n",
      "{'score': 0.024697305634617805, 'token': 20, 'token_str': 'д', 'sequence': 'тэгэхлээр домог үлгэрд биш, балар эртний тухай бодит үнэн оршиж байдаг.'}\n",
      "тэгэхлээр домог үлгэр [MASK] биш , балар эртний тухай бодит үнэн оршиж байдаг .\n",
      "{'score': 0.288455069065094, 'token': 14576, 'token_str': 'хуурмаг', 'sequence': 'тэгэхлээр домог үлгэр худал хуурмаг, балар эртний тухай бодит үнэн оршиж байдаг.'}\n",
      "{'score': 0.22834260761737823, 'token': 121, 'token_str': 'биш', 'sequence': 'тэгэхлээр домог үлгэр худал биш, балар эртний тухай бодит үнэн оршиж байдаг.'}\n",
      "{'score': 0.0651959702372551, 'token': 719, 'token_str': 'үнэн', 'sequence': 'тэгэхлээр домог үлгэр худал үнэн, балар эртний тухай бодит үнэн оршиж байдаг.'}\n",
      "{'score': 0.0459277369081974, 'token': 177, 'token_str': 'бус', 'sequence': 'тэгэхлээр домог үлгэр худал бус, балар эртний тухай бодит үнэн оршиж байдаг.'}\n",
      "{'score': 0.04449455440044403, 'token': 7392, 'token_str': 'домог', 'sequence': 'тэгэхлээр домог үлгэр худал домог, балар эртний тухай бодит үнэн оршиж байдаг.'}\n",
      "тэгэхлээр домог үлгэр худал [MASK] , балар эртний тухай бодит үнэн оршиж байдаг .\n",
      "{'score': 0.37859639525413513, 'token': 728, 'token_str': 'харин', 'sequence': 'тэгэхлээр домог үлгэр худал биш харин балар эртний тухай бодит үнэн оршиж байдаг.'}\n",
      "{'score': 0.3210793137550354, 'token': 8, 'token_str': ',', 'sequence': 'тэгэхлээр домог үлгэр худал биш, балар эртний тухай бодит үнэн оршиж байдаг.'}\n",
      "{'score': 0.023786453530192375, 'token': 65, 'token_str': 'бөгөөд', 'sequence': 'тэгэхлээр домог үлгэр худал биш бөгөөд балар эртний тухай бодит үнэн оршиж байдаг.'}\n",
      "{'score': 0.021496064960956573, 'token': 2545, 'token_str': 'үүнд', 'sequence': 'тэгэхлээр домог үлгэр худал биш үүнд балар эртний тухай бодит үнэн оршиж байдаг.'}\n",
      "{'score': 0.017577217891812325, 'token': 5631, 'token_str': 'ямагт', 'sequence': 'тэгэхлээр домог үлгэр худал биш ямагт балар эртний тухай бодит үнэн оршиж байдаг.'}\n",
      "тэгэхлээр домог үлгэр худал биш [MASK] балар эртний тухай бодит үнэн оршиж байдаг .\n",
      "{'score': 0.4291525185108185, 'token': 728, 'token_str': 'харин', 'sequence': 'тэгэхлээр домог үлгэр худал биш, харин эртний тухай бодит үнэн оршиж байдаг.'}\n",
      "{'score': 0.07282089442014694, 'token': 17876, 'token_str': 'балар', 'sequence': 'тэгэхлээр домог үлгэр худал биш, балар эртний тухай бодит үнэн оршиж байдаг.'}\n",
      "{'score': 0.04963008686900139, 'token': 15051, 'token_str': 'өнө', 'sequence': 'тэгэхлээр домог үлгэр худал биш, өнө эртний тухай бодит үнэн оршиж байдаг.'}\n",
      "{'score': 0.03283757343888283, 'token': 946, 'token_str': 'энд', 'sequence': 'тэгэхлээр домог үлгэр худал биш, энд эртний тухай бодит үнэн оршиж байдаг.'}\n",
      "{'score': 0.02999737113714218, 'token': 1281, 'token_str': 'түүнд', 'sequence': 'тэгэхлээр домог үлгэр худал биш, түүнд эртний тухай бодит үнэн оршиж байдаг.'}\n",
      "тэгэхлээр домог үлгэр худал биш , [MASK] эртний тухай бодит үнэн оршиж байдаг .\n",
      "{'score': 0.5459942817687988, 'token': 679, 'token_str': 'цагийн', 'sequence': 'тэгэхлээр домог үлгэр худал биш, балар цагийн тухай бодит үнэн оршиж байдаг.'}\n",
      "{'score': 0.06654534488916397, 'token': 17, 'token_str': 'ын', 'sequence': 'тэгэхлээр домог үлгэр худал биш, баларын тухай бодит үнэн оршиж байдаг.'}\n",
      "{'score': 0.06483498960733414, 'token': 3054, 'token_str': 'эртний', 'sequence': 'тэгэхлээр домог үлгэр худал биш, балар эртний тухай бодит үнэн оршиж байдаг.'}\n",
      "{'score': 0.038825664669275284, 'token': 5879, 'token_str': 'ертөнцийн', 'sequence': 'тэгэхлээр домог үлгэр худал биш, балар ертөнцийн тухай бодит үнэн оршиж байдаг.'}\n",
      "{'score': 0.023454394191503525, 'token': 2895, 'token_str': 'түүхийн', 'sequence': 'тэгэхлээр домог үлгэр худал биш, балар түүхийн тухай бодит үнэн оршиж байдаг.'}\n",
      "тэгэхлээр домог үлгэр худал биш , балар [MASK] тухай бодит үнэн оршиж байдаг .\n",
      "{'score': 0.323574960231781, 'token': 719, 'token_str': 'үнэн', 'sequence': 'тэгэхлээр домог үлгэр худал биш, балар эртний үнэн бодит үнэн оршиж байдаг.'}\n",
      "{'score': 0.11102457344532013, 'token': 1583, 'token_str': 'жинхэнэ', 'sequence': 'тэгэхлээр домог үлгэр худал биш, балар эртний жинхэнэ бодит үнэн оршиж байдаг.'}\n",
      "{'score': 0.0767369270324707, 'token': 834, 'token_str': 'бодит', 'sequence': 'тэгэхлээр домог үлгэр худал биш, балар эртний бодит бодит үнэн оршиж байдаг.'}\n",
      "{'score': 0.05754339322447777, 'token': 2895, 'token_str': 'түүхийн', 'sequence': 'тэгэхлээр домог үлгэр худал биш, балар эртний түүхийн бодит үнэн оршиж байдаг.'}\n",
      "{'score': 0.0452650710940361, 'token': 1607, 'token_str': 'түүхэн', 'sequence': 'тэгэхлээр домог үлгэр худал биш, балар эртний түүхэн бодит үнэн оршиж байдаг.'}\n",
      "тэгэхлээр домог үлгэр худал биш , балар эртний [MASK] бодит үнэн оршиж байдаг .\n",
      "{'score': 0.6504888534545898, 'token': 834, 'token_str': 'бодит', 'sequence': 'тэгэхлээр домог үлгэр худал биш, балар эртний тухай бодит үнэн оршиж байдаг.'}\n",
      "{'score': 0.06598474830389023, 'token': 1583, 'token_str': 'жинхэнэ', 'sequence': 'тэгэхлээр домог үлгэр худал биш, балар эртний тухай жинхэнэ үнэн оршиж байдаг.'}\n",
      "{'score': 0.018703658133745193, 'token': 1607, 'token_str': 'түүхэн', 'sequence': 'тэгэхлээр домог үлгэр худал биш, балар эртний тухай түүхэн үнэн оршиж байдаг.'}\n",
      "{'score': 0.017638076096773148, 'token': 2623, 'token_str': 'чин', 'sequence': 'тэгэхлээр домог үлгэр худал биш, балар эртний тухай чин үнэн оршиж байдаг.'}\n",
      "{'score': 0.01686275191605091, 'token': 719, 'token_str': 'үнэн', 'sequence': 'тэгэхлээр домог үлгэр худал биш, балар эртний тухай үнэн үнэн оршиж байдаг.'}\n",
      "тэгэхлээр домог үлгэр худал биш , балар эртний тухай [MASK] үнэн оршиж байдаг .\n",
      "{'score': 0.38030412793159485, 'token': 719, 'token_str': 'үнэн', 'sequence': 'тэгэхлээр домог үлгэр худал биш, балар эртний тухай бодит үнэн оршиж байдаг.'}\n",
      "{'score': 0.1810653805732727, 'token': 8310, 'token_str': 'төсөөлөл', 'sequence': 'тэгэхлээр домог үлгэр худал биш, балар эртний тухай бодит төсөөлөл оршиж байдаг.'}\n",
      "{'score': 0.08502354472875595, 'token': 147, 'token_str': 'мэдээлэл', 'sequence': 'тэгэхлээр домог үлгэр худал биш, балар эртний тухай бодит мэдээлэл оршиж байдаг.'}\n",
      "{'score': 0.08456285297870636, 'token': 16864, 'token_str': 'үнэнд', 'sequence': 'тэгэхлээр домог үлгэр худал биш, балар эртний тухай бодит үнэнд оршиж байдаг.'}\n",
      "{'score': 0.024978812783956528, 'token': 7392, 'token_str': 'домог', 'sequence': 'тэгэхлээр домог үлгэр худал биш, балар эртний тухай бодит домог оршиж байдаг.'}\n",
      "тэгэхлээр домог үлгэр худал биш , балар эртний тухай бодит [MASK] оршиж байдаг .\n",
      "{'score': 0.10579497367143631, 'token': 19, 'token_str': 'гэж', 'sequence': 'тэгэхлээр домог үлгэр худал биш, балар эртний тухай бодит үнэн гэж байдаг.'}\n",
      "{'score': 0.07428579032421112, 'token': 74, 'token_str': 'тэй', 'sequence': 'тэгэхлээр домог үлгэр худал биш, балар эртний тухай бодит үнэнтэй байдаг.'}\n",
      "{'score': 0.06298606842756271, 'token': 2750, 'token_str': 'худал', 'sequence': 'тэгэхлээр домог үлгэр худал биш, балар эртний тухай бодит үнэн худал байдаг.'}\n",
      "{'score': 0.04120232164859772, 'token': 530, 'token_str': 'ярьж', 'sequence': 'тэгэхлээр домог үлгэр худал биш, балар эртний тухай бодит үнэн ярьж байдаг.'}\n",
      "{'score': 0.041174568235874176, 'token': 24, 'token_str': 'л', 'sequence': 'тэгэхлээр домог үлгэр худал биш, балар эртний тухай бодит үнэн л байдаг.'}\n",
      "тэгэхлээр домог үлгэр худал биш , балар эртний тухай бодит үнэн [MASK] байдаг .\n",
      "{'score': 0.5783137679100037, 'token': 11, 'token_str': 'байна', 'sequence': 'тэгэхлээр домог үлгэр худал биш, балар эртний тухай бодит үнэн оршиж байна.'}\n",
      "{'score': 0.251987487077713, 'token': 53, 'token_str': 'байдаг', 'sequence': 'тэгэхлээр домог үлгэр худал биш, балар эртний тухай бодит үнэн оршиж байдаг.'}\n",
      "{'score': 0.04301314055919647, 'token': 494, 'token_str': 'байжээ', 'sequence': 'тэгэхлээр домог үлгэр худал биш, балар эртний тухай бодит үнэн оршиж байжээ.'}\n",
      "{'score': 0.03902573511004448, 'token': 60, 'token_str': 'буй', 'sequence': 'тэгэхлээр домог үлгэр худал биш, балар эртний тухай бодит үнэн оршиж буй.'}\n",
      "{'score': 0.017850661650300026, 'token': 323, 'token_str': 'байв', 'sequence': 'тэгэхлээр домог үлгэр худал биш, балар эртний тухай бодит үнэн оршиж байв.'}\n",
      "тэгэхлээр домог үлгэр худал биш , балар эртний тухай бодит үнэн оршиж [MASK] .\n",
      "{'score': 0.9804814457893372, 'token': 7, 'token_str': '.', 'sequence': 'тэгэхлээр домог үлгэр худал биш, балар эртний тухай бодит үнэн оршиж байдаг.'}\n",
      "{'score': 0.00509203365072608, 'token': 859, 'token_str': '!', 'sequence': 'тэгэхлээр домог үлгэр худал биш, балар эртний тухай бодит үнэн оршиж байдаг!'}\n",
      "{'score': 0.0023232463281601667, 'token': 16, 'token_str': 'юм', 'sequence': 'тэгэхлээр домог үлгэр худал биш, балар эртний тухай бодит үнэн оршиж байдаг юм'}\n",
      "{'score': 0.0018719062209129333, 'token': 3320, 'token_str': '...', 'sequence': 'тэгэхлээр домог үлгэр худал биш, балар эртний тухай бодит үнэн оршиж байдаг...'}\n",
      "{'score': 0.0011931523913517594, 'token': 173, 'token_str': 'билээ', 'sequence': 'тэгэхлээр домог үлгэр худал биш, балар эртний тухай бодит үнэн оршиж байдаг билээ'}\n",
      "тэгэхлээр домог үлгэр худал биш , балар эртний тухай бодит үнэн оршиж байдаг [MASK]\n"
     ]
    }
   ],
   "source": [
    "for i in range(len(temp['sen'])):\n",
    "    input_ = temp['sen'].copy()\n",
    "    input_[i] = '[MASK]'\n",
    "    input_ = \" \".join(input_)\n",
    "    output_ = pipe(input_)\n",
    "    for j in output_:\n",
    "        print(j)\n",
    "    print(input_)"
   ]
  },
  {
   "cell_type": "code",
   "execution_count": 17,
   "metadata": {},
   "outputs": [
    {
     "data": {
      "text/plain": [
       "{'sen': ['тэгэхлээр',\n",
       "  'домог',\n",
       "  'үлгэр',\n",
       "  'худал',\n",
       "  'биш',\n",
       "  ',',\n",
       "  'балар',\n",
       "  'эртний',\n",
       "  'тухай',\n",
       "  'бодит',\n",
       "  'үнэн',\n",
       "  'оршиж',\n",
       "  'байдаг',\n",
       "  '.'],\n",
       " 'word': ['үнэн', 'нүэн']}"
      ]
     },
     "execution_count": 17,
     "metadata": {},
     "output_type": "execute_result"
    }
   ],
   "source": [
    "temp = mask[21]\n",
    "maskindex = 0\n",
    "for i in range(len(temp['sen'])):\n",
    "    if temp['sen'][i] == '<>':\n",
    "        temp['sen'][i] = temp['word'][maskindex*2]\n",
    "        maskindex += 1\n",
    "temp"
   ]
  },
  {
   "cell_type": "code",
   "execution_count": null,
   "metadata": {},
   "outputs": [],
   "source": [
    "\n",
    "# Load model directly\n",
    "from transformers import AutoTokenizer, AutoModelForMaskedLM\n",
    "\n",
    "tokenizer = AutoTokenizer.from_pretrained(\"bayartsogt/albert-mongolian\")\n",
    "model = AutoModelForMaskedLM.from_pretrained(\"bayartsogt/albert-mongolian\")\n",
    "\n",
    "########################################################################################################\n",
    "\n",
    "# Load model directly\n",
    "from transformers import AutoTokenizer, AutoModelForMaskedLM\n",
    "\n",
    "tokenizer = AutoTokenizer.from_pretrained(\"bayartsogt/mongolian-roberta-large\")\n",
    "model = AutoModelForMaskedLM.from_pretrained(\"bayartsogt/mongolian-roberta-large\")\n",
    "\n",
    "\n",
    "\n",
    "\n"
   ]
  }
 ],
 "metadata": {
  "kernelspec": {
   "display_name": "weibodatacleaning",
   "language": "python",
   "name": "python3"
  },
  "language_info": {
   "codemirror_mode": {
    "name": "ipython",
    "version": 3
   },
   "file_extension": ".py",
   "mimetype": "text/x-python",
   "name": "python",
   "nbconvert_exporter": "python",
   "pygments_lexer": "ipython3",
   "version": "3.10.13"
  }
 },
 "nbformat": 4,
 "nbformat_minor": 2
}
