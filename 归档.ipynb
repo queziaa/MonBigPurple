{
 "cells": [
  {
   "cell_type": "code",
   "execution_count": null,
   "metadata": {},
   "outputs": [],
   "source": [
    "# https://huggingface.co/Dorjzodovsuren/mongolian-gpt2/tree/main\n",
    "from transformers import AutoTokenizer, AutoModelForTokenClassification\n",
    "\n",
    "tokenizer = AutoTokenizer.from_pretrained(\"Dakie/mongolian-xlm-roberta-base\")\n",
    "model = AutoModelForTokenClassification.from_pretrained(\"Dakie/mongolian-xlm-roberta-base\")\n",
    "\n",
    "# prepare input\n",
    "text = \"Replace me by any text you'd like.\"\n",
    "encoded_input = tokenizer(text, return_tensors='pt')\n",
    "\n",
    "# forward pass\n",
    "output = model(**encoded_input)\n",
    "\n",
    "# Load model directly\n",
    "from transformers import AutoTokenizer, AutoModelForCausalLM\n",
    "\n",
    "tokenizer = AutoTokenizer.from_pretrained(\"bayartsogt/mongolian-gpt2\")\n",
    "model = AutoModelForCausalLM.from_pretrained(\"bayartsogt/mongolian-gpt2\")\n",
    "# 准备输入文本，这是模型生成续写的起点\n",
    "prompt_text = \"Өглөөний нар мандаж,\"  # 假设这意味着“早晨的太阳升起，”\n",
    "\n",
    "# 将文本编码为模型可以理解的格式\n",
    "input_ids = tokenizer.encode(prompt_text, return_tensors='pt')\n",
    "\n",
    "# 使用模型生成文本\n",
    "# num_return_sequences=1 表示生成一个续写\n",
    "# max_length 指定生成文本的最大长度，包括输入文本的长度\n",
    "output = model.generate(input_ids, max_length=50, num_return_sequences=1)\n",
    "\n",
    "# 解码生成的文本\n",
    "generated_text = tokenizer.decode(output[0], skip_special_tokens=True)\n",
    "\n",
    "print(generated_text)"
   ]
  }
 ],
 "metadata": {
  "kernelspec": {
   "display_name": "weibodatacleaning",
   "language": "python",
   "name": "python3"
  },
  "language_info": {
   "codemirror_mode": {
    "name": "ipython",
    "version": 3
   },
   "file_extension": ".py",
   "mimetype": "text/x-python",
   "name": "python",
   "nbconvert_exporter": "python",
   "pygments_lexer": "ipython3",
   "version": "3.10.13"
  }
 },
 "nbformat": 4,
 "nbformat_minor": 2
}
